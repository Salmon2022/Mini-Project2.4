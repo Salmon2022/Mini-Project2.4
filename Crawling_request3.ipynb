{
 "cells": [
  {
   "cell_type": "code",
   "execution_count": 1,
   "id": "82c2463c-25e4-47ce-a59f-ac5c7142340a",
   "metadata": {},
   "outputs": [],
   "source": [
    "import requests"
   ]
  },
  {
   "cell_type": "code",
   "execution_count": 2,
   "id": "dbe35420-89d7-4fc8-9e30-8ddbf2d15d73",
   "metadata": {},
   "outputs": [],
   "source": [
    "import bs4"
   ]
  },
  {
   "cell_type": "code",
   "execution_count": 155,
   "id": "083502bc-0a2d-4c31-81e6-e53b9cc0379d",
   "metadata": {},
   "outputs": [],
   "source": [
    "res=requests.get(\"https://finance.naver.com/item/sise_day.naver?code=005930&page=4\")"
   ]
  },
  {
   "cell_type": "code",
   "execution_count": 156,
   "id": "2de88110-8c1e-49d8-aee9-019c61b7e8ed",
   "metadata": {},
   "outputs": [
    {
     "data": {
      "text/plain": [
       "200"
      ]
     },
     "execution_count": 156,
     "metadata": {},
     "output_type": "execute_result"
    }
   ],
   "source": [
    "res.status_code"
   ]
  },
  {
   "cell_type": "code",
   "execution_count": 157,
   "id": "bcc1f8c5-ca42-44a9-8aac-587c5b1b4417",
   "metadata": {},
   "outputs": [
    {
     "data": {
      "text/plain": [
       "'\\n<!DOCTYPE HTML PUBLIC \"-//W3C//DTD HTML 4.01 Transitional//EN\" \"http://www.w3.org/TR/html4/loose.dtd\">\\n<html>\\n<head>\\n<meta http-equiv=\"Content-Type\" content=\"text/html; charset=euc-kr\">\\n<title>네이버 :: 세상의 모든 지식, 네이버</title>\\n\\n<style type=\"text/css\">\\n.error_content * {margin:0;padding:0;}\\n.error_content img{border:none;}\\n.error_content em {font-style:normal;}\\n.error_content {width:410px; margin:80px auto 0; padding:57px 0 0 0; font-size:12px; font-family:\"나눔고딕\", \"NanumGothic\", \"돋움\", Dotum, AppleGothic, Sans-serif; text-align:left; line-height:14px; background:url(https://ssl.pstatic.net/static/common/error/090610/bg_thumb.gif) no-repeat center top; white-space:nowrap;}\\n.error_content p{margin:0;}\\n.error_content .error_desc {margin-bottom:21px; overflow:hidden; text-align:center;}\\n.error_content .error_desc2 {margin-bottom:11px; padding-bottom:7px; color:#888; line-height:18px; border-bottom:1px solid #eee;}\\n.error_content .error_desc3 {clear:both; color:#888;}\\n.error_content .error_desc3 a {color:#004790; text-decoration:underline;}\\n.error_content .error_list_type {clear:both; float:left; width:410px; _width:428px; margin:0 0 18px 0; *margin:0 0 7px 0; padding-bottom:13px; font-size:13px; color:#000; line-height:18px; border-bottom:1px solid #eee;}\\n.error_content .error_list_type dt {float:left; width:60px; _width /**/:70px; padding-left:10px; background:url(https://ssl.pstatic.net/static/common/error/090610/bg_dot.gif) no-repeat 2px 8px;}\\n.error_content .error_list_type dd {float:left; width:336px; _width /**/:340px; padding:0 0 0 4px;}\\n.error_content .error_list_type dd span {color:#339900; letter-spacing:0;}\\n.error_content .error_list_type dd a{color:#339900;}\\n.error_content p.btn{margin:29px 0 100px; text-align:center;}\\n</style>\\n</head>\\n<!-- ERROR -->\\n<body>\\n<div class=\"error_content\">\\n\\t<p class=\"error_desc\"><img src=\"https://ssl.pstatic.net/static/common/error/090610/txt_desc5.gif\" width=\"319\" height=\"30\" alt=\"페이지를 찾을 수 없습니다.\"></p>\\n\\t<p class=\"error_desc2\">방문하시려는 페이지의 주소가 잘못 입력되었거나,<br>\\n\\t\\t페이지의 주소가 변경 혹은 삭제되어 요청하신 페이지를 찾을 수 없습니다.<br>\\n\\t\\t입력하신 주소가 정확한지 다시 한번 확인해 주시기 바랍니다.\\n\\t</p>\\n\\t<p class=\"error_desc3\">관련 문의사항은 <a href=\"https://help.naver.com/\" target=\"_blank\">고객센터</a>에 알려주시면 친절히 안내해드리겠습니다. 감사합니다.</p>\\n\\t<p class=\"btn\">\\n\\t\\t<a href=\"javascript:history.back()\"><img src=\"https://ssl.pstatic.net/static/common/error/090610/btn_prevpage.gif\" width=\"115\" height=\"35\" alt=\"이전 페이지로\"></a>\\n\\t\\t<a href=\"https://finance.naver.com\"><img src=\"https://ssl.pstatic.net/static/nfinance/btn_home.gif\" width=\"115\" height=\"35\" alt=\"금융홈으로\"></a>\\n\\t</p>\\n</div>\\n</body>\\n</html>\\n'"
      ]
     },
     "execution_count": 157,
     "metadata": {},
     "output_type": "execute_result"
    }
   ],
   "source": [
    "res.text"
   ]
  },
  {
   "cell_type": "code",
   "execution_count": null,
   "id": "87499dfd-7ef6-4bc6-900e-ba19b74af004",
   "metadata": {},
   "outputs": [],
   "source": [
    "#페이지를 찾을 수 없습니다.=>header 입력 사람이 요청하는것처럼"
   ]
  },
  {
   "cell_type": "code",
   "execution_count": null,
   "id": "0cbf58a8-b119-4a97-9ef0-a01bcae9065d",
   "metadata": {},
   "outputs": [],
   "source": [
    "# \"upgrade-insecure-requests\":\"1\","
   ]
  },
  {
   "cell_type": "code",
   "execution_count": 141,
   "id": "5e2455f2-687b-4b6f-b46c-42ea679db78e",
   "metadata": {},
   "outputs": [],
   "source": [
    "my_headers={\n",
    "    \"referer\": \"https://finance.naver.com/item/sise_day.naver?code=005930\",\n",
    "    \"upgrade-insecure-requests\":\"1\",\n",
    "    \"user-agent\": \"Mozilla/5.0 (Windows NT 10.0; Win64; x64) AppleWebKit/537.36 (KHTML, like Gecko) Chrome/96.0.4664.110 Safari/537.36\"\n",
    "}"
   ]
  },
  {
   "cell_type": "code",
   "execution_count": 169,
   "id": "4ac2bbb4-733d-47aa-8895-7fbf81d7d7f0",
   "metadata": {},
   "outputs": [],
   "source": [
    "url= \"https://finance.naver.com/item/sise_day.naver?code=005930&page=1\""
   ]
  },
  {
   "cell_type": "code",
   "execution_count": 170,
   "id": "115dbe93-131a-4d70-88f0-cb9c478a882a",
   "metadata": {},
   "outputs": [],
   "source": [
    "\n",
    "res = requests.get(url,headers=my_headers)\n"
   ]
  },
  {
   "cell_type": "code",
   "execution_count": 171,
   "id": "da8a2300-9f6f-47a1-8ce3-680194c30f06",
   "metadata": {},
   "outputs": [
    {
     "data": {
      "text/plain": [
       "200"
      ]
     },
     "execution_count": 171,
     "metadata": {},
     "output_type": "execute_result"
    }
   ],
   "source": [
    "res.status_code"
   ]
  },
  {
   "cell_type": "code",
   "execution_count": 172,
   "id": "36f1a5ef-569b-4daf-baf5-1f82dbea52a9",
   "metadata": {},
   "outputs": [],
   "source": [
    "soup=bs4.BeautifulSoup(res.text)"
   ]
  },
  {
   "cell_type": "code",
   "execution_count": 173,
   "id": "35d809fe-6ab8-4c24-834c-9f116158f3a9",
   "metadata": {},
   "outputs": [],
   "source": [
    "tr_elements=soup.select(\"table.type2 tbody > tr\")"
   ]
  },
  {
   "cell_type": "code",
   "execution_count": 174,
   "id": "c1af143e-bb1a-499b-9830-36299e5b533a",
   "metadata": {},
   "outputs": [
    {
     "data": {
      "text/plain": [
       "0"
      ]
     },
     "execution_count": 174,
     "metadata": {},
     "output_type": "execute_result"
    }
   ],
   "source": [
    "len(tr_elements)"
   ]
  },
  {
   "cell_type": "code",
   "execution_count": 179,
   "id": "c146486b-09d7-4253-95e7-4bf2051a80b1",
   "metadata": {},
   "outputs": [
    {
     "data": {
      "text/plain": [
       "16"
      ]
     },
     "execution_count": 179,
     "metadata": {},
     "output_type": "execute_result"
    }
   ],
   "source": [
    "tr_elements= soup.select(\"table.type2 > tr\")\n",
    "len(tr_elements)"
   ]
  },
  {
   "cell_type": "code",
   "execution_count": 180,
   "id": "f194a77e-4687-406e-ab58-d5879960fef1",
   "metadata": {},
   "outputs": [
    {
     "name": "stdout",
     "output_type": "stream",
     "text": [
      "\n",
      "날짜\n",
      "종가\n",
      "전일비\n",
      "시가\n",
      "고가\n",
      "저가\n",
      "거래량\n",
      "\n",
      "\n",
      "\n",
      "\n",
      "\n",
      "2022.01.06\n",
      "77,000\n",
      "\n",
      "\n",
      "\t\t\t\t400\n",
      "\t\t\t\t\n",
      "\n",
      "76,700\n",
      "77,600\n",
      "76,600\n",
      "8,991,030\n",
      "\n",
      "\n",
      "2022.01.05\n",
      "77,400\n",
      "\n",
      "\n",
      "\t\t\t\t1,300\n",
      "\t\t\t\t\n",
      "\n",
      "78,800\n",
      "79,000\n",
      "76,400\n",
      "25,470,640\n",
      "\n",
      "\n",
      "2022.01.04\n",
      "78,700\n",
      "\n",
      "\n",
      "\t\t\t\t100\n",
      "\t\t\t\t\n",
      "\n",
      "78,800\n",
      "79,200\n",
      "78,300\n",
      "12,427,416\n",
      "\n",
      "\n",
      "2022.01.03\n",
      "78,600\n",
      "\n",
      "\n",
      "\t\t\t\t300\n",
      "\t\t\t\t\n",
      "\n",
      "79,400\n",
      "79,800\n",
      "78,200\n",
      "13,502,112\n",
      "\n",
      "\n",
      "2021.12.30\n",
      "78,300\n",
      "\n",
      "\n",
      "\t\t\t\t500\n",
      "\t\t\t\t\n",
      "\n",
      "78,900\n",
      "79,500\n",
      "78,100\n",
      "14,236,700\n",
      "\n",
      "\n",
      "\n",
      "\n",
      "\n",
      "\n",
      "\n",
      "\n",
      "\n",
      "\n",
      "\n",
      "2021.12.29\n",
      "78,800\n",
      "\n",
      "\n",
      "\t\t\t\t1,500\n",
      "\t\t\t\t\n",
      "\n",
      "80,200\n",
      "80,200\n",
      "78,500\n",
      "19,794,795\n",
      "\n",
      "\n",
      "2021.12.28\n",
      "80,300\n",
      "\n",
      "\n",
      "\t\t\t\t100\n",
      "\t\t\t\t\n",
      "\n",
      "80,200\n",
      "80,400\n",
      "79,700\n",
      "18,226,325\n",
      "\n",
      "\n",
      "2021.12.27\n",
      "80,200\n",
      "\n",
      "\n",
      "\t\t\t\t300\n",
      "\t\t\t\t\n",
      "\n",
      "80,600\n",
      "80,600\n",
      "79,800\n",
      "10,783,368\n",
      "\n",
      "\n",
      "2021.12.24\n",
      "80,500\n",
      "\n",
      "\n",
      "\t\t\t\t600\n",
      "\t\t\t\t\n",
      "\n",
      "80,200\n",
      "80,800\n",
      "80,200\n",
      "12,086,380\n",
      "\n",
      "\n",
      "2021.12.23\n",
      "79,900\n",
      "\n",
      "\n",
      "\t\t\t\t500\n",
      "\t\t\t\t\n",
      "\n",
      "79,800\n",
      "80,000\n",
      "79,300\n",
      "13,577,498\n",
      "\n",
      "\n",
      "\n",
      "\n"
     ]
    }
   ],
   "source": [
    "for e in tr_elements:\n",
    "    print(e.text)"
   ]
  },
  {
   "cell_type": "code",
   "execution_count": 181,
   "id": "743e0c49-c0f4-486e-8c45-c9cd15aa6189",
   "metadata": {},
   "outputs": [],
   "source": [
    "total_data_list=[]\n",
    "for e in tr_elements:\n",
    "    td_elements= e.select(\"td\")\n",
    "    data_list=[]\n",
    "    for td_e in td_elements:\n",
    "        data_list.append(td_e.text.strip())\n",
    "    total_data_list.append(data_list)"
   ]
  },
  {
   "cell_type": "code",
   "execution_count": 182,
   "id": "a1ad4ab1-1414-47f4-b394-17ddb439b110",
   "metadata": {},
   "outputs": [
    {
     "data": {
      "text/plain": [
       "[[],\n",
       " [''],\n",
       " ['2022.01.06', '77,000', '400', '76,700', '77,600', '76,600', '8,991,030'],\n",
       " ['2022.01.05', '77,400', '1,300', '78,800', '79,000', '76,400', '25,470,640'],\n",
       " ['2022.01.04', '78,700', '100', '78,800', '79,200', '78,300', '12,427,416'],\n",
       " ['2022.01.03', '78,600', '300', '79,400', '79,800', '78,200', '13,502,112'],\n",
       " ['2021.12.30', '78,300', '500', '78,900', '79,500', '78,100', '14,236,700'],\n",
       " [''],\n",
       " [''],\n",
       " [''],\n",
       " ['2021.12.29', '78,800', '1,500', '80,200', '80,200', '78,500', '19,794,795'],\n",
       " ['2021.12.28', '80,300', '100', '80,200', '80,400', '79,700', '18,226,325'],\n",
       " ['2021.12.27', '80,200', '300', '80,600', '80,600', '79,800', '10,783,368'],\n",
       " ['2021.12.24', '80,500', '600', '80,200', '80,800', '80,200', '12,086,380'],\n",
       " ['2021.12.23', '79,900', '500', '79,800', '80,000', '79,300', '13,577,498'],\n",
       " ['']]"
      ]
     },
     "execution_count": 182,
     "metadata": {},
     "output_type": "execute_result"
    }
   ],
   "source": [
    "total_data_list"
   ]
  },
  {
   "cell_type": "code",
   "execution_count": null,
   "id": "adb8b864-28b1-40ce-8764-97a6955e2004",
   "metadata": {},
   "outputs": [],
   "source": []
  }
 ],
 "metadata": {
  "kernelspec": {
   "display_name": "Python 3 (ipykernel)",
   "language": "python",
   "name": "python3"
  },
  "language_info": {
   "codemirror_mode": {
    "name": "ipython",
    "version": 3
   },
   "file_extension": ".py",
   "mimetype": "text/x-python",
   "name": "python",
   "nbconvert_exporter": "python",
   "pygments_lexer": "ipython3",
   "version": "3.9.7"
  }
 },
 "nbformat": 4,
 "nbformat_minor": 5
}
