{
 "cells": [
  {
   "cell_type": "code",
   "execution_count": 21,
   "id": "cf5cd8c0-04d6-4b68-b734-f6c1bc33fc6c",
   "metadata": {},
   "outputs": [],
   "source": [
    "from selenium import webdriver"
   ]
  },
  {
   "cell_type": "code",
   "execution_count": 22,
   "id": "999f566b-6104-4f39-a033-75b7d9916940",
   "metadata": {},
   "outputs": [],
   "source": [
    "driver=webdriver.Chrome()"
   ]
  },
  {
   "cell_type": "code",
   "execution_count": 23,
   "id": "fa4021f5-7690-43e9-b5c6-bd99d0d46f2c",
   "metadata": {},
   "outputs": [],
   "source": [
    "driver.get('https://instagram.com')"
   ]
  },
  {
   "cell_type": "code",
   "execution_count": 24,
   "id": "e7f7faef-333c-4ad8-97ae-01dcc1a6756b",
   "metadata": {},
   "outputs": [],
   "source": [
    "from selenium.webdriver.common.by import By\n",
    "from selenium.webdriver.support.ui import WebDriverWait\n",
    "from selenium.webdriver.support import expected_conditions as EC"
   ]
  },
  {
   "cell_type": "code",
   "execution_count": 25,
   "id": "8856ffcb-31dc-4077-896a-66e01ce20bff",
   "metadata": {},
   "outputs": [
    {
     "name": "stderr",
     "output_type": "stream",
     "text": [
      "C:\\Users\\HEOJUN~1\\AppData\\Local\\Temp/ipykernel_6280/2377264426.py:6: DeprecationWarning: find_element_by_* commands are deprecated. Please use find_element() instead\n",
      "  pw_element=driver.find_element_by_name(\"password\")\n"
     ]
    }
   ],
   "source": [
    "driver.get(\"https://instagram.com\")\n",
    "username_element=WebDriverWait(driver,10).until(\n",
    "    EC.presence_of_element_located((By.NAME,\"username\"))\n",
    ")\n",
    "username_element.send_keys(\"gjwls89@naver.com\")\n",
    "pw_element=driver.find_element_by_name(\"password\")\n",
    "pw_element.send_keys(\"master821@\")\n",
    "username_element.submit()"
   ]
  },
  {
   "cell_type": "code",
   "execution_count": 26,
   "id": "e02f54c0-bc47-4638-b4cf-3871c6dbed56",
   "metadata": {},
   "outputs": [],
   "source": [
    "url=\"https:www.instagram.com/explore/tags/맛집/\""
   ]
  },
  {
   "cell_type": "code",
   "execution_count": 32,
   "id": "6084bc8c-4ed0-4df7-8aa0-434db6a82b5b",
   "metadata": {},
   "outputs": [],
   "source": [
    "driver.get(url)"
   ]
  },
  {
   "cell_type": "code",
   "execution_count": 33,
   "id": "b4f3d138-bd8d-46da-930b-9e71a4084460",
   "metadata": {},
   "outputs": [
    {
     "name": "stderr",
     "output_type": "stream",
     "text": [
      "C:\\Users\\HEOJUN~1\\AppData\\Local\\Temp/ipykernel_6280/3402664472.py:1: DeprecationWarning: find_elements_by_* commands are deprecated. Please use find_elements() instead\n",
      "  first_pic_element= driver.find_elements_by_css_selector(\"div.Nnq7C div.v1Nh3 > a\")[0]\n"
     ]
    }
   ],
   "source": [
    "first_pic_element= driver.find_elements_by_css_selector(\"div.Nnq7C div.v1Nh3 > a\")[0]"
   ]
  },
  {
   "cell_type": "code",
   "execution_count": 34,
   "id": "f30f58a2-4bee-4e59-a8ca-841835ddd5e3",
   "metadata": {},
   "outputs": [],
   "source": [
    "first_pic_element.click()"
   ]
  },
  {
   "cell_type": "code",
   "execution_count": null,
   "id": "d38d2064-9523-4ff4-af56-355bad0c69cc",
   "metadata": {},
   "outputs": [],
   "source": []
  }
 ],
 "metadata": {
  "kernelspec": {
   "display_name": "Python 3 (ipykernel)",
   "language": "python",
   "name": "python3"
  },
  "language_info": {
   "codemirror_mode": {
    "name": "ipython",
    "version": 3
   },
   "file_extension": ".py",
   "mimetype": "text/x-python",
   "name": "python",
   "nbconvert_exporter": "python",
   "pygments_lexer": "ipython3",
   "version": "3.9.7"
  }
 },
 "nbformat": 4,
 "nbformat_minor": 5
}
