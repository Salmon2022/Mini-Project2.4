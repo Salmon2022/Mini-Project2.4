{
 "cells": [
  {
   "cell_type": "code",
   "execution_count": 21,
   "id": "1437460b-3348-45cd-9dcb-0add1c48a6a8",
   "metadata": {},
   "outputs": [],
   "source": [
    "import requests\n",
    "import bs4\n",
    "import time\n",
    "import random"
   ]
  },
  {
   "cell_type": "code",
   "execution_count": 22,
   "id": "0ada3468-176f-453d-8281-111e945247e0",
   "metadata": {},
   "outputs": [],
   "source": [
    "my_headers={\"referer\": \"https://blackkiwi.net/service/keyword-analysis?keyword=%EC%9C%A1%EA%B0%80%EA%B3%B5%ED%92%88&platform=naver\",\n",
    "            \"upgrade-insecure-requests\": \"1\",\n",
    "            \"user-agent\": \"Mozilla/5.0 (Windows NT 10.0; Win64; x64) AppleWebKit/537.36 (KHTML, like Gecko) Chrome/96.0.4664.110 Safari/537.36\"\n",
    "}\n"
   ]
  },
  {
   "cell_type": "code",
   "execution_count": 23,
   "id": "9c66fc1d-0b64-4d99-86f5-0a13acae2ff1",
   "metadata": {},
   "outputs": [],
   "source": [
    "total_data_list=[]\n",
    "url=\"https://blackkiwi.net/service/keyword-analysis?keyword=%EC%9C%A1%EA%B0%80%EA%B3%B5%ED%92%88&platform=naver\"\n",
    "res = requests.get(url=url, headers=my_headers)\n",
    "    \n",
    "soup=bs4.BeautifulSoup(res.text)\n",
    "    \n",
    "tr_elements =soup.select(\"table.iJmGPi tr\")\n",
    "for e in tr_elements:\n",
    "    tr_elements = e.select(\"span.syyle__ChildrenWrapper-sc-sbwrvs-1\")\n",
    "    data_list=[]\n",
    "    for a_e in tr_elements:\n",
    "        data_list.append(a_e.text.strip())\n",
    "    total_data_list.append(data_list)\n",
    "time.sleep(random.random()*2)\n",
    "    "
   ]
  },
  {
   "cell_type": "code",
   "execution_count": 12,
   "id": "4ebbab2e-4790-46cb-8363-8482824deb4e",
   "metadata": {},
   "outputs": [
    {
     "data": {
      "text/plain": [
       "[]"
      ]
     },
     "execution_count": 12,
     "metadata": {},
     "output_type": "execute_result"
    }
   ],
   "source": [
    "total_data_list"
   ]
  },
  {
   "cell_type": "code",
   "execution_count": 24,
   "id": "4b0006c5-dc88-46ff-b787-15292dd1ef70",
   "metadata": {},
   "outputs": [],
   "source": [
    "url=\"https://blackkiwi.net/service/keyword-analysis?keyword=%EC%9C%A1%EA%B0%80%EA%B3%B5%ED%92%88&platform=naver\"\n",
    "res = requests.get(url=url, headers=my_headers)\n",
    "    \n",
    "soup=bs4.BeautifulSoup(res.text)\n",
    "    \n",
    "tr_elements =soup.select(\"tbody.sqKqNe tr\")"
   ]
  },
  {
   "cell_type": "code",
   "execution_count": 25,
   "id": "3b9a4507-67fa-4622-836f-decd234ee410",
   "metadata": {},
   "outputs": [
    {
     "data": {
      "text/plain": [
       "[]"
      ]
     },
     "execution_count": 25,
     "metadata": {},
     "output_type": "execute_result"
    }
   ],
   "source": [
    "tr_elements"
   ]
  },
  {
   "cell_type": "code",
   "execution_count": null,
   "id": "e47397a6-d176-4c03-a8a5-05956608f90d",
   "metadata": {},
   "outputs": [],
   "source": [
    "\n"
   ]
  }
 ],
 "metadata": {
  "kernelspec": {
   "display_name": "Python 3 (ipykernel)",
   "language": "python",
   "name": "python3"
  },
  "language_info": {
   "codemirror_mode": {
    "name": "ipython",
    "version": 3
   },
   "file_extension": ".py",
   "mimetype": "text/x-python",
   "name": "python",
   "nbconvert_exporter": "python",
   "pygments_lexer": "ipython3",
   "version": "3.9.7"
  }
 },
 "nbformat": 4,
 "nbformat_minor": 5
}
