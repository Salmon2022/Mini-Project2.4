{
 "cells": [
  {
   "cell_type": "code",
   "execution_count": 21,
   "id": "1437460b-3348-45cd-9dcb-0add1c48a6a8",
   "metadata": {},
   "outputs": [],
   "source": [
    "import requests\n",
    "import bs4\n",
    "import time\n",
    "import random"
   ]
  },
  {
   "cell_type": "code",
   "execution_count": 36,
   "id": "0ada3468-176f-453d-8281-111e945247e0",
   "metadata": {},
   "outputs": [],
   "source": [
    "my_headers={\"referer\": \"https://blackkiwi.net/service/keyword-analysis?keyword=%EC%9C%A1%EA%B0%80%EA%B3%B5%ED%92%88&platform=naver\",\n",
    "            \"upgrade-insecure-requests\": \"1\",\n",
    "            \"user-agent\": \"Mozilla/5.0 (Windows NT 10.0; Win64; x64) AppleWebKit/537.36 (KHTML, like Gecko) Chrome/96.0.4664.110 Safari/537.36\"\n",
    "}\n"
   ]
  },
  {
   "cell_type": "code",
   "execution_count": 37,
   "id": "9c66fc1d-0b64-4d99-86f5-0a13acae2ff1",
   "metadata": {},
   "outputs": [],
   "source": [
    "total_data_list=[]\n",
    "\n",
    "\n",
    "\n",
    "url=\"https://blackkiwi.net/service/keyword-analysis?keyword=%EC%9C%A1%EA%B0%80%EA%B3%B5%ED%92%88&platform=naver\"\n",
    "res = requests.get(url=url, headers=my_headers)\n",
    "    \n",
    "soup=bs4.BeautifulSoup(res.text)\n",
    "    \n",
    "tr_elements =soup.select(\"table.iJmGPi tbody tr\")\n",
    "for e in tr_elements:\n",
    "    tr_elements = e.select(\"td span\")\n",
    "    data_list=[]\n",
    "    for a_e in tr_elements:\n",
    "        data_list.append(a_e.text.strip())\n",
    "    total_data_list.append(data_list)\n",
    "time.sleep(random.random()*2)\n",
    "    "
   ]
  },
  {
   "cell_type": "code",
   "execution_count": 38,
   "id": "4ebbab2e-4790-46cb-8363-8482824deb4e",
   "metadata": {},
   "outputs": [
    {
     "data": {
      "text/plain": [
       "[]"
      ]
     },
     "execution_count": 38,
     "metadata": {},
     "output_type": "execute_result"
    }
   ],
   "source": [
    "total_data_list"
   ]
  },
  {
   "cell_type": "code",
   "execution_count": 55,
   "id": "4b0006c5-dc88-46ff-b787-15292dd1ef70",
   "metadata": {},
   "outputs": [
    {
     "data": {
      "text/plain": [
       "<!DOCTYPE html>\n",
       "<html lang=\"ko\"><head><meta charset=\"utf-8\"/><meta content=\"width=device-width,initial-scale=1,minimum-scale=1,maximum-scale=1,user-scalable=0\" name=\"viewport\"/><meta content=\"ie=edge\" http-equiv=\"X-UA-Compatible\"/><meta content=\"blackkiwi Inc.\" name=\"author\"/><meta content=\"1 days\" name=\"revisit-after\"/><meta content=\"blackkiwi Inc.\" name=\"copyright\"/><meta content=\"ë¸ëí¤ì\" name=\"subject\"/><meta content=\"í¤ìë, í¤ìë ê²ìë, í¤ìë ê²ìë ì¡°í, ë¤ì´ë² í¤ìë ê²ìë, ë¤ì´ë² í¤ìë ê²ìë ì¡°í, í¤ìë ë¶ì, ë¸ëí¤ì, ë¸ëìí¤, blackkiwi\" name=\"keywords\"/><meta content=\"index,follow\" name=\"robots\"/><meta content=\"website\" property=\"og:type\"/><meta content=\"ë¸ëí¤ì\" property=\"og:site_name\"/><meta content=\"ë¸ëí¤ì - í¤ìë ê²ìë ì¡°í, ë¶ì\" property=\"og:title\"/><meta content=\"í¹ì  í¤ìëê° ì¼ë§ë ê²ìëëì§ ììë³´ì¸ì.\" property=\"og:description\"/><meta content=\"https://blackkiwi.net/image/blackkiwi_logo.png\" property=\"og:image\"/><meta content=\"https://blackkiwi.net\" property=\"og:url\"/><link href=\"/image/blackkiwi_logo.png\" rel=\"shortcut icon\" type=\"imageâx-icon\"/><link href=\"/image/apple-touch-icon.png\" rel=\"apple-touch-icon\" sizes=\"180x180\"/><link href=\"/image/favicon-32x32.png\" rel=\"icon\" sizes=\"32x32\" type=\"image/png\"/><link href=\"/image/favicon-16x16.png\" rel=\"icon\" sizes=\"16x16\" type=\"image/png\"/><link color=\"#5bbad5\" href=\"/image/safari-pinned-tab.svg\" rel=\"mask-icon\"/><meta content=\"#da532c\" name=\"msapplication-TileColor\"/><meta content=\"#ffffff\" name=\"theme-color\"/><meta content=\"NF2qEhrkDzn5CYl3nvy-gXnBAOLpr9cj7oJWAIQtja4\" name=\"google-site-verification\"/><meta content=\"e012f6d1850bd34c901ecf1d031d962eaa7c4761\" name=\"naver-site-verification\"/><link href=\"https://fonts.googleapis.com/css2?family=Noto+Sans+KR:wght@300;400;500;700&amp;display=swap\" rel=\"stylesheet\"/><style>html,\n",
       "      body {\n",
       "        background-color: #000000;\n",
       "      }\n",
       "      #noscript {\n",
       "        margin-top: 20px;\n",
       "        text-align: center;\n",
       "        color: #ffffff;\n",
       "      }\n",
       "      #noscript-link {\n",
       "        color: #51a9f3;\n",
       "      }</style><link href=\"/favicon.ico\" rel=\"icon\"/></head><body><noscript><div id=\"noscript\">ì´ ì¬ì´í¸ì ê¸°ë¥ì ëª¨ë ì´ì©íê¸° ìí´ìë ìë°ì¤í¬ë¦½í¸ë¥¼ íì±íìì¼ì¼ í©ëë¤. <a href=\"https://www.enable-javascript.com/ko/\" id=\"noscript-link\">ì¬ê¸°</a>ë¥¼ ì°¸ê³ íì¬ ìë°ì¤í¬ë¦½í¸ë¥¼ íì±íìì¼ì£¼ì¸ì.</div></noscript><div id=\"root\"></div><script src=\"/runtime.d3256c145eeccfb662b2.js\"></script><script src=\"/npm.shared-module.26b02dc313192d903b45.js\"></script><script src=\"/npm.jspdf.e82a44650baa2473c3da.js\"></script><script src=\"/npm.babel.08a74b1834a05825eb61.js\"></script><script src=\"/npm.webpack.e3363b5676bf2897be9a.js\"></script><script src=\"/npm.core-js.fd4f3de1184151b87170.js\"></script><script src=\"/npm.canvg.f6f6f11495073b82e860.js\"></script><script src=\"/npm.html2canvas.49ccca7818aca097e402.js\"></script><script src=\"/npm.react-redux.387bc15325fb1121288b.js\"></script><script src=\"/npm.axios.03fd3c16a59f31c9c6ed.js\"></script><script src=\"/npm.juggle.1824f6a6d3d64d05bb56.js\"></script><script src=\"/npm.constant.a47d6e01cfc2eed9e446.js\"></script><script src=\"/npm.redux-actions.0014a6d8badae32d49ac.js\"></script><script src=\"/npm.emotion.a6fb9f04bf8c5a58888b.js\"></script><script src=\"/npm.react-ga.c35948b138f4167cd6c6.js\"></script><script src=\"/npm.css-line-break.7923d0a09c8aad15c18c.js\"></script><script src=\"/npm.react-star-ratings.94960fd2e93b6944e4a7.js\"></script><script src=\"/npm.uuid.bb6ac9e86e859b70817f.js\"></script><script src=\"/npm.react-gtm-module.daefad1daa638ad8b3d6.js\"></script><script src=\"/npm.react-tooltip.ed1fe9af91299800b56d.js\"></script><script src=\"/npm.react-toastify.6a9a1f661fd47186465e.js\"></script><script src=\"/npm.prop-types.e5e2cbfdd0febea4af4a.js\"></script><script src=\"/npm.react-google-recaptcha.ee69bd2a3c496c183172.js\"></script><script src=\"/npm.react-router.9b3adbb430699b04e160.js\"></script><script src=\"/npm.react-transition-group.a78ff93ebb73960ef5cf.js\"></script><script src=\"/npm.babel-polyfill.056a7c41a7eeaa124a86.js\"></script><script src=\"/npm.react-copy-to-clipboard.50d19018d9b2319833cc.js\"></script><script src=\"/npm.react-dom.f7919e95f6f8b44da21f.js\"></script><script src=\"/npm.react-is.6281a9017a59fc9cb3b9.js\"></script><script src=\"/npm.react.5bce7584a73a93950a39.js\"></script><script src=\"/npm.scheduler.7b4d9d512780180d71e9.js\"></script><script src=\"/npm.classnames.527ab442eef27d1a029e.js\"></script><script src=\"/npm.clsx.799c4ab9be6b157a7fc4.js\"></script><script src=\"/npm.copy-to-clipboard.451921abbb14532819e9.js\"></script><script src=\"/npm.css-loader.8c266efc249ef4d3e15c.js\"></script><script src=\"/npm.dateformat.f0a18714d172f519472e.js\"></script><script src=\"/npm.decode-uri-component.8ccf0c727b88f303f780.js\"></script><script src=\"/npm.fflate.05497199bcc3f43dc3fc.js\"></script><script src=\"/npm.filter-obj.9d078c5ea24d78e19887.js\"></script><script src=\"/npm.hex-to-rgba.e160975c360511ecc0a9.js\"></script><script src=\"/npm.history.cb8eba251fb0981a7351.js\"></script><script src=\"/npm.hoist-non-react-statics.4c39dca05fc083ae84fa.js\"></script><script src=\"/npm.immer.4b098263dcd2ba2b2fd7.js\"></script><script src=\"/npm.invariant.d6543ff144660106e6c1.js\"></script><script src=\"/npm.js-cookie.7ac31faf3cf0002160c9.js\"></script><script src=\"/npm.milliseconds.82a45b14096f3dd7504c.js\"></script><script src=\"/npm.mini-create-react-context.42363885b0ffe421c858.js\"></script><script src=\"/npm.object-assign.e7b1e42045564e35c98f.js\"></script><script src=\"/npm.object-path.c333083eb074ae39efb3.js\"></script><script src=\"/npm.performance-now.d5506c43bcbf77b1c529.js\"></script><script src=\"/npm.process.458b1c468d66e1ffd204.js\"></script><script src=\"/npm.query-string.17d6c060b72c6a3e2443.js\"></script><script src=\"/npm.raf.71a7dc4f2bc9f7674c18.js\"></script><script src=\"/npm.react-async-script.1ba64fd00343a4ba6e7f.js\"></script><script src=\"/npm.react-lazy-with-preload.804a07d72eecd248b37f.js\"></script><script src=\"/npm.react-md-spinner.a3818ed14b278b3f014a.js\"></script><script src=\"/npm.react-router-dom.26acc7d1ae92ee1b64ed.js\"></script><script src=\"/npm.react-topbar-progress-indicator.ba5c076259d62be8a708.js\"></script><script src=\"/npm.react-use-ref-effect.1c7ed1befafd26099c53.js\"></script><script src=\"/npm.reduce-reducers.56da89e706cfc687e387.js\"></script><script src=\"/npm.redux-devtools-extension.b6f2e57640c5724f8369.js\"></script><script src=\"/npm.redux-watch.be345da33a86b58c7f6a.js\"></script><script src=\"/npm.redux.416c33f445acf72b02ae.js\"></script><script src=\"/npm.resolve-pathname.cf64f9beed71ce9cbfd6.js\"></script><script src=\"/npm.rgbcolor.4ea6b5c640feb45f26c7.js\"></script><script src=\"/npm.shallowequal.056bf065f5932726aa93.js\"></script><script src=\"/npm.split-on-first.917171c01f3f3166b399.js\"></script><script src=\"/npm.stackblur-canvas.1378213e1641f880a45f.js\"></script><script src=\"/npm.strict-uri-encode.e90cfafc2d20d2e9e79e.js\"></script><script src=\"/npm.style-loader.eb0b7941bc41533b7359.js\"></script><script src=\"/npm.styled-components.ae0336b91a7a929dbeea.js\"></script><script src=\"/npm.stylis.476d3aad86cf27543c14.js\"></script><script src=\"/npm.svg-pathdata.e5f1d7e79724d1d39b06.js\"></script><script src=\"/npm.swipe-listener.95512a89f92ac40841e8.js\"></script><script src=\"/npm.tiny-invariant.d7952bd55c017ef8894c.js\"></script><script src=\"/npm.toggle-selection.5be6356f60ebf261615e.js\"></script><script src=\"/npm.topbar.e3754bc2b2e87074dbb2.js\"></script><script src=\"/npm.value-equal.11a9a63d7d703eca60d8.js\"></script><script src=\"/main.97d6ef280ead8391a208.js\"></script></body></html>"
      ]
     },
     "execution_count": 55,
     "metadata": {},
     "output_type": "execute_result"
    }
   ],
   "source": [
    "url=\"https://blackkiwi.net/service/keyword-analysis?keyword=육가공품&platform=naver\"\n",
    "res = requests.get(url=url, headers=my_headers)\n",
    "    \n",
    "soup=bs4.BeautifulSoup(res.text)\n",
    "    \n",
    "soup\n",
    "#soup에 크롤링한게 있나 봤는데 데이터가 없네 왜이럴까?"
   ]
  },
  {
   "cell_type": "code",
   "execution_count": 40,
   "id": "3b9a4507-67fa-4622-836f-decd234ee410",
   "metadata": {},
   "outputs": [
    {
     "data": {
      "text/plain": [
       "[]"
      ]
     },
     "execution_count": 40,
     "metadata": {},
     "output_type": "execute_result"
    }
   ],
   "source": [
    "tr_elements"
   ]
  },
  {
   "cell_type": "code",
   "execution_count": 57,
   "id": "e47397a6-d176-4c03-a8a5-05956608f90d",
   "metadata": {},
   "outputs": [],
   "source": [
    "from bs4 import BeautifulSoup\n",
    "import time, os\n",
    "from datetime import datetime\n",
    "import pandas as pd"
   ]
  },
  {
   "cell_type": "code",
   "execution_count": 58,
   "id": "6aa3010a-d45c-46e9-a782-d8f2d405d77d",
   "metadata": {},
   "outputs": [],
   "source": [
    "#page link"
   ]
  },
  {
   "cell_type": "code",
   "execution_count": 107,
   "id": "e8b1f399-b114-432c-aa16-f141c6f1ced9",
   "metadata": {},
   "outputs": [],
   "source": [
    "link=\"https://blackkiwi.net/service/keyword-analysis?keyword=%EC%9C%A1%EA%B0%80%EA%B3%B5%ED%92%88&platform=naver\""
   ]
  },
  {
   "cell_type": "code",
   "execution_count": 108,
   "id": "471ab943-856d-4e35-a1f1-11a1f6b2200b",
   "metadata": {},
   "outputs": [],
   "source": [
    "#chrome driver"
   ]
  },
  {
   "cell_type": "code",
   "execution_count": 109,
   "id": "dfb840fb-43c9-409f-82f3-cb261a5d3b67",
   "metadata": {},
   "outputs": [],
   "source": [
    "driver=webdriver.Chrome()"
   ]
  },
  {
   "cell_type": "code",
   "execution_count": 110,
   "id": "b2e00c13-ee17-4b8a-bd77-21bf8b9763bb",
   "metadata": {},
   "outputs": [],
   "source": [
    "driver.get(link)"
   ]
  },
  {
   "cell_type": "code",
   "execution_count": 81,
   "id": "2c4df63f-c8b7-48e4-afd4-6d2e6c4c6cd1",
   "metadata": {},
   "outputs": [],
   "source": [
    "os.makedirs('result',exist_ok=True)"
   ]
  },
  {
   "cell_type": "code",
   "execution_count": 106,
   "id": "faaa1b41-4253-48fa-ad99-30ebff53d850",
   "metadata": {},
   "outputs": [
    {
     "ename": "InvalidSessionIdException",
     "evalue": "Message: invalid session id\n",
     "output_type": "error",
     "traceback": [
      "\u001b[1;31m---------------------------------------------------------------------------\u001b[0m",
      "\u001b[1;31mInvalidSessionIdException\u001b[0m                 Traceback (most recent call last)",
      "\u001b[1;32mC:\\Users\\HEOJUN~1\\AppData\\Local\\Temp/ipykernel_24832/2539522623.py\u001b[0m in \u001b[0;36m<module>\u001b[1;34m\u001b[0m\n\u001b[1;32m----> 1\u001b[1;33m \u001b[0mpages\u001b[0m\u001b[1;33m=\u001b[0m\u001b[0mdriver\u001b[0m\u001b[1;33m.\u001b[0m\u001b[0mfind_elements_by_xpath\u001b[0m\u001b[1;33m(\u001b[0m\u001b[1;34m'//tbody[@class=\"cqkqNe\"]//td[@class=\"gHVTBD\"]'\u001b[0m\u001b[1;33m)\u001b[0m\u001b[1;33m\u001b[0m\u001b[1;33m\u001b[0m\u001b[0m\n\u001b[0m",
      "\u001b[1;32m~\\anaconda3\\lib\\site-packages\\selenium\\webdriver\\remote\\webdriver.py\u001b[0m in \u001b[0;36mfind_elements_by_xpath\u001b[1;34m(self, xpath)\u001b[0m\n\u001b[0;32m    408\u001b[0m             \u001b[0melements\u001b[0m \u001b[1;33m=\u001b[0m \u001b[0mdriver\u001b[0m\u001b[1;33m.\u001b[0m\u001b[0mfind_elements_by_xpath\u001b[0m\u001b[1;33m(\u001b[0m\u001b[1;34m\"//div[contains(@class, 'foo')]\"\u001b[0m\u001b[1;33m)\u001b[0m\u001b[1;33m\u001b[0m\u001b[1;33m\u001b[0m\u001b[0m\n\u001b[0;32m    409\u001b[0m         \"\"\"\n\u001b[1;32m--> 410\u001b[1;33m         \u001b[1;32mreturn\u001b[0m \u001b[0mself\u001b[0m\u001b[1;33m.\u001b[0m\u001b[0mfind_elements\u001b[0m\u001b[1;33m(\u001b[0m\u001b[0mby\u001b[0m\u001b[1;33m=\u001b[0m\u001b[0mBy\u001b[0m\u001b[1;33m.\u001b[0m\u001b[0mXPATH\u001b[0m\u001b[1;33m,\u001b[0m \u001b[0mvalue\u001b[0m\u001b[1;33m=\u001b[0m\u001b[0mxpath\u001b[0m\u001b[1;33m)\u001b[0m\u001b[1;33m\u001b[0m\u001b[1;33m\u001b[0m\u001b[0m\n\u001b[0m\u001b[0;32m    411\u001b[0m \u001b[1;33m\u001b[0m\u001b[0m\n\u001b[0;32m    412\u001b[0m     \u001b[1;32mdef\u001b[0m \u001b[0mfind_element_by_link_text\u001b[0m\u001b[1;33m(\u001b[0m\u001b[0mself\u001b[0m\u001b[1;33m,\u001b[0m \u001b[0mlink_text\u001b[0m\u001b[1;33m)\u001b[0m\u001b[1;33m:\u001b[0m\u001b[1;33m\u001b[0m\u001b[1;33m\u001b[0m\u001b[0m\n",
      "\u001b[1;32m~\\anaconda3\\lib\\site-packages\\selenium\\webdriver\\remote\\webdriver.py\u001b[0m in \u001b[0;36mfind_elements\u001b[1;34m(self, by, value)\u001b[0m\n\u001b[0;32m   1003\u001b[0m         \u001b[1;31m# Return empty list if driver returns null\u001b[0m\u001b[1;33m\u001b[0m\u001b[1;33m\u001b[0m\u001b[0m\n\u001b[0;32m   1004\u001b[0m         \u001b[1;31m# See https://github.com/SeleniumHQ/selenium/issues/4555\u001b[0m\u001b[1;33m\u001b[0m\u001b[1;33m\u001b[0m\u001b[0m\n\u001b[1;32m-> 1005\u001b[1;33m         return self.execute(Command.FIND_ELEMENTS, {\n\u001b[0m\u001b[0;32m   1006\u001b[0m             \u001b[1;34m'using'\u001b[0m\u001b[1;33m:\u001b[0m \u001b[0mby\u001b[0m\u001b[1;33m,\u001b[0m\u001b[1;33m\u001b[0m\u001b[1;33m\u001b[0m\u001b[0m\n\u001b[0;32m   1007\u001b[0m             'value': value})['value'] or []\n",
      "\u001b[1;32m~\\anaconda3\\lib\\site-packages\\selenium\\webdriver\\remote\\webdriver.py\u001b[0m in \u001b[0;36mexecute\u001b[1;34m(self, driver_command, params)\u001b[0m\n\u001b[0;32m    319\u001b[0m         \u001b[0mresponse\u001b[0m \u001b[1;33m=\u001b[0m \u001b[0mself\u001b[0m\u001b[1;33m.\u001b[0m\u001b[0mcommand_executor\u001b[0m\u001b[1;33m.\u001b[0m\u001b[0mexecute\u001b[0m\u001b[1;33m(\u001b[0m\u001b[0mdriver_command\u001b[0m\u001b[1;33m,\u001b[0m \u001b[0mparams\u001b[0m\u001b[1;33m)\u001b[0m\u001b[1;33m\u001b[0m\u001b[1;33m\u001b[0m\u001b[0m\n\u001b[0;32m    320\u001b[0m         \u001b[1;32mif\u001b[0m \u001b[0mresponse\u001b[0m\u001b[1;33m:\u001b[0m\u001b[1;33m\u001b[0m\u001b[1;33m\u001b[0m\u001b[0m\n\u001b[1;32m--> 321\u001b[1;33m             \u001b[0mself\u001b[0m\u001b[1;33m.\u001b[0m\u001b[0merror_handler\u001b[0m\u001b[1;33m.\u001b[0m\u001b[0mcheck_response\u001b[0m\u001b[1;33m(\u001b[0m\u001b[0mresponse\u001b[0m\u001b[1;33m)\u001b[0m\u001b[1;33m\u001b[0m\u001b[1;33m\u001b[0m\u001b[0m\n\u001b[0m\u001b[0;32m    322\u001b[0m             response['value'] = self._unwrap_value(\n\u001b[0;32m    323\u001b[0m                 response.get('value', None))\n",
      "\u001b[1;32m~\\anaconda3\\lib\\site-packages\\selenium\\webdriver\\remote\\errorhandler.py\u001b[0m in \u001b[0;36mcheck_response\u001b[1;34m(self, response)\u001b[0m\n\u001b[0;32m    240\u001b[0m                 \u001b[0malert_text\u001b[0m \u001b[1;33m=\u001b[0m \u001b[0mvalue\u001b[0m\u001b[1;33m[\u001b[0m\u001b[1;34m'alert'\u001b[0m\u001b[1;33m]\u001b[0m\u001b[1;33m.\u001b[0m\u001b[0mget\u001b[0m\u001b[1;33m(\u001b[0m\u001b[1;34m'text'\u001b[0m\u001b[1;33m)\u001b[0m\u001b[1;33m\u001b[0m\u001b[1;33m\u001b[0m\u001b[0m\n\u001b[0;32m    241\u001b[0m             \u001b[1;32mraise\u001b[0m \u001b[0mexception_class\u001b[0m\u001b[1;33m(\u001b[0m\u001b[0mmessage\u001b[0m\u001b[1;33m,\u001b[0m \u001b[0mscreen\u001b[0m\u001b[1;33m,\u001b[0m \u001b[0mstacktrace\u001b[0m\u001b[1;33m,\u001b[0m \u001b[0malert_text\u001b[0m\u001b[1;33m)\u001b[0m\u001b[1;33m\u001b[0m\u001b[1;33m\u001b[0m\u001b[0m\n\u001b[1;32m--> 242\u001b[1;33m         \u001b[1;32mraise\u001b[0m \u001b[0mexception_class\u001b[0m\u001b[1;33m(\u001b[0m\u001b[0mmessage\u001b[0m\u001b[1;33m,\u001b[0m \u001b[0mscreen\u001b[0m\u001b[1;33m,\u001b[0m \u001b[0mstacktrace\u001b[0m\u001b[1;33m)\u001b[0m\u001b[1;33m\u001b[0m\u001b[1;33m\u001b[0m\u001b[0m\n\u001b[0m\u001b[0;32m    243\u001b[0m \u001b[1;33m\u001b[0m\u001b[0m\n\u001b[0;32m    244\u001b[0m     \u001b[1;32mdef\u001b[0m \u001b[0m_value_or_default\u001b[0m\u001b[1;33m(\u001b[0m\u001b[0mself\u001b[0m\u001b[1;33m,\u001b[0m \u001b[0mobj\u001b[0m\u001b[1;33m,\u001b[0m \u001b[0mkey\u001b[0m\u001b[1;33m,\u001b[0m \u001b[0mdefault\u001b[0m\u001b[1;33m)\u001b[0m\u001b[1;33m:\u001b[0m\u001b[1;33m\u001b[0m\u001b[1;33m\u001b[0m\u001b[0m\n",
      "\u001b[1;31mInvalidSessionIdException\u001b[0m: Message: invalid session id\n"
     ]
    }
   ],
   "source": [
    "pages=driver.find_elements_by_xpath('//tbody[@class=\"cqkqNe\"]//td[@class=\"gHVTBD\"]')"
   ]
  },
  {
   "cell_type": "code",
   "execution_count": 95,
   "id": "a3c37220-e929-4747-8726-de3ca63b3449",
   "metadata": {},
   "outputs": [
    {
     "name": "stdout",
     "output_type": "stream",
     "text": [
      "there area 0 pages availabe!\n"
     ]
    }
   ],
   "source": [
    "print('there area %d pages availabe!' %len(pages))"
   ]
  },
  {
   "cell_type": "code",
   "execution_count": 96,
   "id": "8d5b0022-92a6-4f52-9ed8-b26a3afb116f",
   "metadata": {},
   "outputs": [
    {
     "name": "stdout",
     "output_type": "stream",
     "text": [
      "Writting the data...\n"
     ]
    },
    {
     "data": {
      "text/plain": [
       "[]"
      ]
     },
     "execution_count": 96,
     "metadata": {},
     "output_type": "execute_result"
    }
   ],
   "source": [
    "print('Writting the data...')\n",
    "pages"
   ]
  },
  {
   "cell_type": "code",
   "execution_count": 97,
   "id": "8d8a636d-7f42-4ded-b172-d020eda3e03b",
   "metadata": {},
   "outputs": [],
   "source": [
    "df=pd.DataFrame(columns=[\"연관키워드\",\"월간검색량\"])"
   ]
  },
  {
   "cell_type": "code",
   "execution_count": 98,
   "id": "a34d81ce-47ca-48e4-8644-0863c3d9e1af",
   "metadata": {},
   "outputs": [],
   "source": [
    "for page in pages:\n",
    "    soup=BeautifulSoup(page.get_attibute('innerHTML'),'html.parser')"
   ]
  },
  {
   "cell_type": "code",
   "execution_count": 99,
   "id": "52d0fe14-4239-4d60-b2ec-9a961d81bf10",
   "metadata": {},
   "outputs": [
    {
     "ename": "AttributeError",
     "evalue": "'NoneType' object has no attribute 'text'",
     "output_type": "error",
     "traceback": [
      "\u001b[1;31m---------------------------------------------------------------------------\u001b[0m",
      "\u001b[1;31mAttributeError\u001b[0m                            Traceback (most recent call last)",
      "\u001b[1;32mC:\\Users\\HEOJUN~1\\AppData\\Local\\Temp/ipykernel_24832/2694649049.py\u001b[0m in \u001b[0;36m<module>\u001b[1;34m\u001b[0m\n\u001b[1;32m----> 1\u001b[1;33m \u001b[0mname\u001b[0m \u001b[1;33m=\u001b[0m \u001b[0msoup\u001b[0m\u001b[1;33m.\u001b[0m\u001b[0mfind\u001b[0m\u001b[1;33m(\u001b[0m\u001b[0mclass_\u001b[0m\u001b[1;33m=\u001b[0m\u001b[1;34m\"cSsqmP\"\u001b[0m\u001b[1;33m)\u001b[0m\u001b[1;33m.\u001b[0m\u001b[0mtext\u001b[0m\u001b[1;33m\u001b[0m\u001b[1;33m\u001b[0m\u001b[0m\n\u001b[0m",
      "\u001b[1;31mAttributeError\u001b[0m: 'NoneType' object has no attribute 'text'"
     ]
    }
   ],
   "source": [
    "name = soup.find(class_=\"cSsqmP\").text"
   ]
  },
  {
   "cell_type": "code",
   "execution_count": 100,
   "id": "1c4714da-9ba5-4379-a91d-4482c447fd75",
   "metadata": {},
   "outputs": [
    {
     "ename": "AttributeError",
     "evalue": "'NoneType' object has no attribute 'text'",
     "output_type": "error",
     "traceback": [
      "\u001b[1;31m---------------------------------------------------------------------------\u001b[0m",
      "\u001b[1;31mAttributeError\u001b[0m                            Traceback (most recent call last)",
      "\u001b[1;32mC:\\Users\\HEOJUN~1\\AppData\\Local\\Temp/ipykernel_24832/3835034306.py\u001b[0m in \u001b[0;36m<module>\u001b[1;34m\u001b[0m\n\u001b[1;32m----> 1\u001b[1;33m \u001b[0mtotals\u001b[0m\u001b[1;33m=\u001b[0m\u001b[0msoup\u001b[0m\u001b[1;33m.\u001b[0m\u001b[0mfind\u001b[0m\u001b[1;33m(\u001b[0m\u001b[0mclass_\u001b[0m\u001b[1;33m=\u001b[0m\u001b[1;34m\"style__ChildrenWrapper-sc-cbwrvs-1\"\u001b[0m\u001b[1;33m)\u001b[0m\u001b[1;33m.\u001b[0m\u001b[0mtext\u001b[0m\u001b[1;33m\u001b[0m\u001b[1;33m\u001b[0m\u001b[0m\n\u001b[0m",
      "\u001b[1;31mAttributeError\u001b[0m: 'NoneType' object has no attribute 'text'"
     ]
    }
   ],
   "source": [
    "totals=soup.find(class_=\"style__ChildrenWrapper-sc-cbwrvs-1\").text"
   ]
  },
  {
   "cell_type": "code",
   "execution_count": 101,
   "id": "cdcb7063-3ea8-4dfe-83e2-3e49035a89ee",
   "metadata": {},
   "outputs": [
    {
     "ename": "NameError",
     "evalue": "name 'name' is not defined",
     "output_type": "error",
     "traceback": [
      "\u001b[1;31m---------------------------------------------------------------------------\u001b[0m",
      "\u001b[1;31mNameError\u001b[0m                                 Traceback (most recent call last)",
      "\u001b[1;32mC:\\Users\\HEOJUN~1\\AppData\\Local\\Temp/ipykernel_24832/542482689.py\u001b[0m in \u001b[0;36m<module>\u001b[1;34m\u001b[0m\n\u001b[1;32m----> 1\u001b[1;33m df=df.append({'name':name,\n\u001b[0m\u001b[0;32m      2\u001b[0m               'totals':totals},ignore_index=True)\n",
      "\u001b[1;31mNameError\u001b[0m: name 'name' is not defined"
     ]
    }
   ],
   "source": [
    "df=df.append({'name':name,\n",
    "              'totals':totals},ignore_index=True)\n"
   ]
  },
  {
   "cell_type": "code",
   "execution_count": 102,
   "id": "a8f37e41-98ca-46ee-9b15-f7c034c71c36",
   "metadata": {},
   "outputs": [],
   "source": [
    "filename=datetime.now().strftime('result/%Y-%m-%d_%H-%M-%S.csv')"
   ]
  },
  {
   "cell_type": "code",
   "execution_count": 103,
   "id": "f9b34228-97b0-42aa-9b1a-625d0cd51075",
   "metadata": {},
   "outputs": [],
   "source": [
    "df.to_csv(filename, encoding='utf-8-sig', index=False)"
   ]
  },
  {
   "cell_type": "code",
   "execution_count": 104,
   "id": "76d5ef24-49dd-4910-99f5-bb914504362a",
   "metadata": {},
   "outputs": [],
   "source": [
    "driver.stop_client()"
   ]
  },
  {
   "cell_type": "code",
   "execution_count": 105,
   "id": "03c54483-0c9f-473f-a436-dc51bf776d26",
   "metadata": {},
   "outputs": [],
   "source": [
    "driver.close()"
   ]
  },
  {
   "cell_type": "code",
   "execution_count": null,
   "id": "4e8160dd-f98b-4e51-b380-974a4bbb665e",
   "metadata": {},
   "outputs": [],
   "source": [
    "print('Done!)"
   ]
  }
 ],
 "metadata": {
  "kernelspec": {
   "display_name": "Python 3 (ipykernel)",
   "language": "python",
   "name": "python3"
  },
  "language_info": {
   "codemirror_mode": {
    "name": "ipython",
    "version": 3
   },
   "file_extension": ".py",
   "mimetype": "text/x-python",
   "name": "python",
   "nbconvert_exporter": "python",
   "pygments_lexer": "ipython3",
   "version": "3.9.7"
  }
 },
 "nbformat": 4,
 "nbformat_minor": 5
}
